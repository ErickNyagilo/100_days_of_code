{
  "nbformat": 4,
  "nbformat_minor": 0,
  "metadata": {
    "colab": {
      "name": "RegulerExpressions.ipynb",
      "provenance": [],
      "collapsed_sections": []
    },
    "kernelspec": {
      "name": "python3",
      "display_name": "Python 3"
    }
  },
  "cells": [
    {
      "cell_type": "code",
      "metadata": {
        "id": "nqqrF8RAXZXs",
        "colab_type": "code",
        "outputId": "96b40d39-8aa2-419f-c8ff-284b0e71fbbd",
        "colab": {
          "base_uri": "https://localhost:8080/",
          "height": 35
        }
      },
      "source": [
        "import re\n",
        "\n",
        "string =  \"I, Erick, will one day be a succesful data scientist\"\n",
        "partern = \"Erick\"\n",
        "partern2 = \"analysis\"\n",
        "mo = re.match(partern2, string)\n",
        "print(mo)"
      ],
      "execution_count": 0,
      "outputs": [
        {
          "output_type": "stream",
          "text": [
            "None\n"
          ],
          "name": "stdout"
        }
      ]
    },
    {
      "cell_type": "markdown",
      "metadata": {
        "id": "woDf6FdsYkmn",
        "colab_type": "text"
      },
      "source": [
        "Match only search for the value parsered in the string at the start of the string only"
      ]
    },
    {
      "cell_type": "code",
      "metadata": {
        "id": "C_ESYVGvYWJa",
        "colab_type": "code",
        "outputId": "17d844a7-8ca6-458e-df9f-51c2ed0a242d",
        "colab": {
          "base_uri": "https://localhost:8080/",
          "height": 35
        }
      },
      "source": [
        "ma = re.match(partern, string)\n",
        "print(ma)"
      ],
      "execution_count": 0,
      "outputs": [
        {
          "output_type": "stream",
          "text": [
            "None\n"
          ],
          "name": "stdout"
        }
      ]
    },
    {
      "cell_type": "markdown",
      "metadata": {
        "id": "BVvsYPPOZUeq",
        "colab_type": "text"
      },
      "source": [
        "It return none because there is Erick is not at the start of the tring "
      ]
    },
    {
      "cell_type": "code",
      "metadata": {
        "id": "rZVOzS6sZFvq",
        "colab_type": "code",
        "outputId": "b58281bc-1555-4cb2-daf4-2ef9ad64b460",
        "colab": {
          "base_uri": "https://localhost:8080/",
          "height": 35
        }
      },
      "source": [
        "new = \"I\"\n",
        "nba =  re.match(new, string).group()\n",
        "print(nba)"
      ],
      "execution_count": 0,
      "outputs": [
        {
          "output_type": "stream",
          "text": [
            "I\n"
          ],
          "name": "stdout"
        }
      ]
    },
    {
      "cell_type": "markdown",
      "metadata": {
        "id": "aSWUk3n_Z4Ky",
        "colab_type": "text"
      },
      "source": [
        "From this when we want to retrive data that is inside the string we need to use another method"
      ]
    },
    {
      "cell_type": "code",
      "metadata": {
        "id": "W5pMYU0-Z3cP",
        "colab_type": "code",
        "outputId": "7de6a975-b6b7-4752-dfac-b63840c91e47",
        "colab": {
          "base_uri": "https://localhost:8080/",
          "height": 35
        }
      },
      "source": [
        "string =  \"I, Erick, will one day be a succesful data scientist\"\n",
        "partern = \"one\"\n",
        "partern2 = \"analysis\"\n",
        "\n",
        "#using the search method\n",
        "mo = re.search(partern, string).group()\n",
        "print(mo)"
      ],
      "execution_count": 0,
      "outputs": [
        {
          "output_type": "stream",
          "text": [
            "one\n"
          ],
          "name": "stdout"
        }
      ]
    },
    {
      "cell_type": "markdown",
      "metadata": {
        "id": "QLRhpRfzaorR",
        "colab_type": "text"
      },
      "source": [
        "What if we have a repetion in our text"
      ]
    },
    {
      "cell_type": "code",
      "metadata": {
        "id": "WJqHdt_ian8j",
        "colab_type": "code",
        "outputId": "b18e52e9-a85e-4d8e-9b7f-cef02d2de9ed",
        "colab": {
          "base_uri": "https://localhost:8080/",
          "height": 35
        }
      },
      "source": [
        "string =  \"I, Erick, will one day be a succesful data scientist and a succesful person too\"\n",
        "partern = \"succesful\"\n",
        "\n",
        "#using the search method\n",
        "mo = re.search(partern, string)\n",
        "print(mo)"
      ],
      "execution_count": 0,
      "outputs": [
        {
          "output_type": "stream",
          "text": [
            "<_sre.SRE_Match object; span=(28, 37), match='succesful'>\n"
          ],
          "name": "stdout"
        }
      ]
    },
    {
      "cell_type": "markdown",
      "metadata": {
        "id": "3yYZYKQqbSb1",
        "colab_type": "text"
      },
      "source": [
        "You can see that tis is not a good way to do it"
      ]
    },
    {
      "cell_type": "code",
      "metadata": {
        "id": "Yj9rcSLZZ8FA",
        "colab_type": "code",
        "outputId": "4d0f56d8-bad9-4d98-fef6-a770d3ddda50",
        "colab": {
          "base_uri": "https://localhost:8080/",
          "height": 35
        }
      },
      "source": [
        "# were are going to use the find method\n",
        "string =  \"I, Erick, will one day be a succesful data scientist and a succesful person too\"\n",
        "partern = \"succesful\"\n",
        "\n",
        "#using the search method\n",
        "mo = re.findall(partern, string)\n",
        "print(mo)\n",
        "\n",
        "#Now this is fine "
      ],
      "execution_count": 0,
      "outputs": [
        {
          "output_type": "stream",
          "text": [
            "['succesful', 'succesful']\n"
          ],
          "name": "stdout"
        }
      ]
    },
    {
      "cell_type": "code",
      "metadata": {
        "id": "9zqGfAJ8ZPu-",
        "colab_type": "code",
        "outputId": "f0d50b78-1886-42e3-b5c5-09175f9e7218",
        "colab": {
          "base_uri": "https://localhost:8080/",
          "height": 72
        }
      },
      "source": [
        "#To return the idexces of the repeated values we use finditer\n",
        "\n",
        "mo = re.finditer(partern, string)\n",
        "print(mo)\n",
        "\n",
        "#geting the cleaner version of finditer\n",
        "for m in mo:\n",
        "  print(m.start())"
      ],
      "execution_count": 0,
      "outputs": [
        {
          "output_type": "stream",
          "text": [
            "<callable_iterator object at 0x7f54de4e39b0>\n",
            "28\n",
            "59\n"
          ],
          "name": "stdout"
        }
      ]
    },
    {
      "cell_type": "code",
      "metadata": {
        "id": "3TQEDCFfcOUk",
        "colab_type": "code",
        "outputId": "c0ae6756-89ce-4e81-a09b-6b688cb5fcbe",
        "colab": {
          "base_uri": "https://localhost:8080/",
          "height": 35
        }
      },
      "source": [
        "string =  \"Bill was born on 10-09-1992 and was admited to highschool on 02-01-2000\"\n",
        "partern = \"\\d{2}-\\d{2}-\\d{4}\"\n",
        "\n",
        "mo = re.findall(partern, string)\n",
        "print(mo)"
      ],
      "execution_count": 0,
      "outputs": [
        {
          "output_type": "stream",
          "text": [
            "['10-09-1992', '02-01-2000']\n"
          ],
          "name": "stdout"
        }
      ]
    },
    {
      "cell_type": "markdown",
      "metadata": {
        "id": "TIfutu0JeHZG",
        "colab_type": "text"
      },
      "source": [
        "I we want to change a the date like string to monday"
      ]
    },
    {
      "cell_type": "code",
      "metadata": {
        "id": "idJKa3sTdmJk",
        "colab_type": "code",
        "outputId": "1ca337ed-0550-46d5-d48c-494d0d5779b6",
        "colab": {
          "base_uri": "https://localhost:8080/",
          "height": 35
        }
      },
      "source": [
        "print(re.sub(partern,\"monday\", string))"
      ],
      "execution_count": 0,
      "outputs": [
        {
          "output_type": "stream",
          "text": [
            "Bill was born on monday and was admited to highschool on monday\n"
          ],
          "name": "stdout"
        }
      ]
    },
    {
      "cell_type": "code",
      "metadata": {
        "id": "SRPGBd7Nea0J",
        "colab_type": "code",
        "colab": {}
      },
      "source": [
        ""
      ],
      "execution_count": 0,
      "outputs": []
    }
  ]
}